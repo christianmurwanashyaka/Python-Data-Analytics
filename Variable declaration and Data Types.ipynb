{
 "cells": [
  {
   "cell_type": "code",
   "execution_count": 4,
   "metadata": {},
   "outputs": [
    {
     "name": "stdout",
     "output_type": "stream",
     "text": [
      "Welcome to python programming languages recape\n"
     ]
    }
   ],
   "source": [
    "# Python Programming languages recape\n",
    "print('Welcome to python programming languages recape')"
   ]
  },
  {
   "cell_type": "code",
   "execution_count": 10,
   "metadata": {},
   "outputs": [
    {
     "name": "stdout",
     "output_type": "stream",
     "text": [
      "30\n",
      "<class 'int'> <class 'int'>\n",
      "140727780680368 140727780680688\n"
     ]
    }
   ],
   "source": [
    "# Defining variables\n",
    "first_num = 10\n",
    "second_num = 20\n",
    "print(first_num + second_num)\n",
    "\n",
    "# Data types and Memory location\n",
    "print(type(first_num),type(second_num))\n",
    "print(id(first_num), id(second_num))"
   ]
  },
  {
   "cell_type": "code",
   "execution_count": 13,
   "metadata": {},
   "outputs": [
    {
     "name": "stdout",
     "output_type": "stream",
     "text": [
      "<class 'int'>\n",
      "140727780683248\n",
      "140727780683472\n"
     ]
    }
   ],
   "source": [
    "# Data Types\n",
    "# 1- Intiger:\n",
    "num1 = 100\n",
    "print(type(num1))\n",
    "print(id(num1))\n",
    "num1 = 107\n",
    "print(id(num1))"
   ]
  },
  {
   "cell_type": "code",
   "execution_count": 11,
   "metadata": {},
   "outputs": [
    {
     "name": "stdout",
     "output_type": "stream",
     "text": [
      "<class 'float'>\n"
     ]
    }
   ],
   "source": [
    "# 2- Float\n",
    "num2 = 16.30\n",
    "print(type(num2))"
   ]
  },
  {
   "cell_type": "code",
   "execution_count": 15,
   "metadata": {},
   "outputs": [
    {
     "name": "stdout",
     "output_type": "stream",
     "text": [
      "python 2570130495600\n",
      "python <class 'str'>\n",
      "new value 2570162153136\n",
      "new value <class 'str'>\n"
     ]
    }
   ],
   "source": [
    "# 3- String ''  \"\" \"\" ''' '''\n",
    "\n",
    "s= 'python'\n",
    "print(s, id(s))\n",
    "print(s, type(s))\n",
    "\n",
    "s =\"new value\"\n",
    "print(s, id(s))\n",
    "print(s, type(s))"
   ]
  },
  {
   "cell_type": "code",
   "execution_count": 25,
   "metadata": {},
   "outputs": [
    {
     "name": "stdout",
     "output_type": "stream",
     "text": [
      "[10, 15, 20, 25, 30, 35, 40, 45, 50, 'python', 'Django']\n",
      "2570161532872\n",
      "2570161532872\n",
      "[10, 15, 20, 27, 30, 35, 40, 45, 50, 'python', 'Django', 'Chris']\n"
     ]
    }
   ],
   "source": [
    "# 4- list: []\n",
    "\n",
    "l =[10,15,20,25,30,35,40,45,50,\"python\", \"Django\"]\n",
    "print(l)\n",
    "print(id(l))\n",
    "l.append(\"Chris\")\n",
    "l[3]=27\n",
    "print(id(l))\n",
    "print(l)"
   ]
  },
  {
   "cell_type": "code",
   "execution_count": 29,
   "metadata": {},
   "outputs": [
    {
     "name": "stdout",
     "output_type": "stream",
     "text": [
      "5\n",
      "<class 'tuple'>\n"
     ]
    }
   ],
   "source": [
    "# 5- tuple :\n",
    "t = (5,10,15)\n",
    "print(t[0])\n",
    "print(type(t))"
   ]
  },
  {
   "cell_type": "code",
   "execution_count": 27,
   "metadata": {},
   "outputs": [
    {
     "name": "stdout",
     "output_type": "stream",
     "text": [
      "<class 'dict'>\n"
     ]
    }
   ],
   "source": [
    "# 6- Dict :\n",
    "d = {\"name\":\"ABC\", \"email\":\"abc@gamil.com\"}\n",
    "print(type(d))"
   ]
  },
  {
   "cell_type": "code",
   "execution_count": 30,
   "metadata": {},
   "outputs": [
    {
     "name": "stdout",
     "output_type": "stream",
     "text": [
      "<class 'set'>\n",
      "{34, 5, 20, 28, 29, 30}\n"
     ]
    }
   ],
   "source": [
    "# 7 - Set {}\n",
    "s = {5,20,30,34,29, 28}\n",
    "print(type(s))\n",
    "print(s)"
   ]
  },
  {
   "cell_type": "code",
   "execution_count": 31,
   "metadata": {},
   "outputs": [],
   "source": [
    "# 8 boolean : True False\n"
   ]
  },
  {
   "cell_type": "code",
   "execution_count": 32,
   "metadata": {},
   "outputs": [],
   "source": [
    "# 9 - complex : 4 + 3j\n"
   ]
  },
  {
   "cell_type": "code",
   "execution_count": 35,
   "metadata": {},
   "outputs": [],
   "source": [
    "#   help(str)"
   ]
  },
  {
   "cell_type": "code",
   "execution_count": null,
   "metadata": {},
   "outputs": [],
   "source": []
  }
 ],
 "metadata": {
  "kernelspec": {
   "display_name": "Python 3",
   "language": "python",
   "name": "python3"
  },
  "language_info": {
   "codemirror_mode": {
    "name": "ipython",
    "version": 3
   },
   "file_extension": ".py",
   "mimetype": "text/x-python",
   "name": "python",
   "nbconvert_exporter": "python",
   "pygments_lexer": "ipython3",
   "version": "3.7.4"
  }
 },
 "nbformat": 4,
 "nbformat_minor": 2
}
