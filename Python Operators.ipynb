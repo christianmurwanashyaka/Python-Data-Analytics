{
 "cells": [
  {
   "cell_type": "code",
   "execution_count": 6,
   "metadata": {},
   "outputs": [
    {
     "name": "stdout",
     "output_type": "stream",
     "text": [
      "30\n",
      "-10\n",
      "200\n",
      "5.0\n",
      "3\n",
      "1\n",
      "100000\n"
     ]
    }
   ],
   "source": [
    "# Operators in Python\n",
    "# 1 - Arithmetic operators +, -, *, /,//, %, **\n",
    "num1 = 10\n",
    "num2 = 20\n",
    "print(num1 + num2)\n",
    "print(num1 - num2)\n",
    "print(num1 * num2)\n",
    "print(num1 / 2)\n",
    "print(num1 //3)\n",
    "print(num1 % 3)\n",
    "print(10 ** 5)\n"
   ]
  },
  {
   "cell_type": "code",
   "execution_count": 7,
   "metadata": {},
   "outputs": [
    {
     "name": "stdout",
     "output_type": "stream",
     "text": [
      "True\n",
      "True\n",
      "False\n",
      "False\n",
      "False\n",
      "True\n"
     ]
    }
   ],
   "source": [
    "# 2- Comparison operators <,>,<=,>=,==,!=\n",
    "# This compare the value\n",
    "num1 = 100\n",
    "num2 = 200\n",
    "print(num1 < num2)\n",
    "print(num1 <= num2)\n",
    "print(num1 > num2)\n",
    "print(num1 >= num2)\n",
    "print(num1 == num2)\n",
    "print(num1 != num2)"
   ]
  },
  {
   "cell_type": "code",
   "execution_count": 9,
   "metadata": {},
   "outputs": [
    {
     "name": "stdout",
     "output_type": "stream",
     "text": [
      "True\n",
      "True\n"
     ]
    }
   ],
   "source": [
    "# 3 - Identity Operators is is not \n",
    "# This compare the memory location \n",
    "num1 = 100\n",
    "num2 = 100\n",
    "print(num1 == num2)\n",
    "print(num1 is num2)"
   ]
  },
  {
   "cell_type": "code",
   "execution_count": 11,
   "metadata": {},
   "outputs": [
    {
     "name": "stdout",
     "output_type": "stream",
     "text": [
      "True\n",
      "False\n",
      "True\n"
     ]
    }
   ],
   "source": [
    "l = [10, 20, 30]\n",
    "l2 = [10,20,30]\n",
    "print(l == l2)\n",
    "print(l is l2)\n",
    "print(l is not l2)"
   ]
  },
  {
   "cell_type": "code",
   "execution_count": 12,
   "metadata": {},
   "outputs": [
    {
     "name": "stdout",
     "output_type": "stream",
     "text": [
      "105\n",
      "110\n"
     ]
    }
   ],
   "source": [
    "# 4-  Assignment operators = ,+-, -=,*=,/=\n",
    "\n",
    "num1 = 100\n",
    "num1 = num1 + 5\n",
    "print(num1)\n",
    "num1 +=5\n",
    "print(num1)"
   ]
  },
  {
   "cell_type": "code",
   "execution_count": 22,
   "metadata": {},
   "outputs": [
    {
     "name": "stdout",
     "output_type": "stream",
     "text": [
      "0b10 0b1\n",
      "0\n",
      "3\n",
      "1\n",
      "4\n"
     ]
    }
   ],
   "source": [
    "# 5- Bitwise operators &, |,  ^,>>,<<\n",
    "num1 = 2\n",
    "num2 = 1\n",
    "print(bin(num1), bin(num2))\n",
    "print(num1 & num2)\n",
    "print(num1 | num2)\n",
    "print(2 >> 1)\n",
    "print(2<<1)"
   ]
  },
  {
   "cell_type": "code",
   "execution_count": 27,
   "metadata": {},
   "outputs": [
    {
     "name": "stdout",
     "output_type": "stream",
     "text": [
      "True\n",
      "False\n",
      "True\n",
      "True\n",
      "True\n"
     ]
    }
   ],
   "source": [
    "# 6 - Logical operators  and or not\n",
    "print(10==10 and 20 == 20)\n",
    "print(10==15 and 20 == 20)\n",
    "print(10==10 or 20 == 20)\n",
    "print(10==15 or 20 == 20)\n",
    "print(not(10==15))\n"
   ]
  },
  {
   "cell_type": "code",
   "execution_count": 31,
   "metadata": {},
   "outputs": [
    {
     "name": "stdout",
     "output_type": "stream",
     "text": [
      "True\n",
      "False\n",
      "True\n",
      "False\n",
      "False\n",
      "True\n"
     ]
    }
   ],
   "source": [
    "# 7 Membership operators in not in\n",
    "l = [10,20,30,40,50]\n",
    "print(20 in l)\n",
    "print(80 in l)\n",
    "\n",
    "s = \"Python string\"\n",
    "print(\"Python\" in s)\n",
    "print(\"python\" in s)\n",
    "\n",
    "print(\"Python\" not in s)\n",
    "print(\"python\" not in s)"
   ]
  },
  {
   "cell_type": "code",
   "execution_count": null,
   "metadata": {},
   "outputs": [],
   "source": []
  }
 ],
 "metadata": {
  "kernelspec": {
   "display_name": "Python 3",
   "language": "python",
   "name": "python3"
  },
  "language_info": {
   "codemirror_mode": {
    "name": "ipython",
    "version": 3
   },
   "file_extension": ".py",
   "mimetype": "text/x-python",
   "name": "python",
   "nbconvert_exporter": "python",
   "pygments_lexer": "ipython3",
   "version": "3.7.4"
  }
 },
 "nbformat": 4,
 "nbformat_minor": 2
}
